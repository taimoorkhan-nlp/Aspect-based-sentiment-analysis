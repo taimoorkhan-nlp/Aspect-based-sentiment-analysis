{
 "cells": [
  {
   "cell_type": "markdown",
   "id": "6ab8f3db-691a-4f75-bc29-91092e48289f",
   "metadata": {},
   "source": [
    "# Topic-Based Sentiment Analysis"
   ]
  },
  {
   "cell_type": "markdown",
   "id": "40e578a5-b3de-473e-90cb-32b3bb3db30c",
   "metadata": {},
   "source": [
    "Topic-Based Sentiment Analysis, also known as fine-grained opinion mining, focuses on identifying the topics discussed in the documents and then using the subjective terms in the topic, compute its sentiment score. Thus, topic modeling keeps track of specific topics across all the documents in the dataset while sentiment analysis aggregates the subjective feedback associated with these topics in the text.\n",
    "\n",
    "The topics in topic modeling more often represent the aspects of the given domain e.g., for the hotel reviews dataset the topics may represent cleanliness, service, food quality etc. Therefore, analyzing the sentiments of the topics is often called, *Aspect-Based Sentiment Analysis (ABSA)*.\n"
   ]
  },
  {
   "cell_type": "markdown",
   "id": "d8f46707-b6ef-45ea-ade2-ebcc8edffb13",
   "metadata": {},
   "source": [
    "Conventional sentiment analysis typically assigns an overall sentiment label (e.g., positive, negative, or neutral) to an entire text. While this is sufficient for many applications, it lacks the granularity needed in scenarios where sentiment varies across different aspects. For instance, in a restaurant review, a customer may rate the restaurant positively overall but criticize the service. In such cases, ABSA helps capture the sentiment towards individual aspects, such as identifying that the sentiment toward “service” is negative, despite the overall positive review."
   ]
  },
  {
   "cell_type": "markdown",
   "id": "21cc0115-4d20-4429-8fe3-60bf3a42ef5f",
   "metadata": {},
   "source": [
    "## Example: Hotel reviews\n",
    "\n",
    "<p style=\"margin-left:200px; float:right\"><img src=\"hotel-reviews.jpg\" width=\"300px\" /></p>  \n",
    "\n",
    "**Hotel aspects:** cleanliness, staff behavior, food quality, location, service and amenities\\\n",
    "**Aspect sentiment analysis:** sentiment scores aggregated for each aspect\n",
    "\n",
    "\n",
    "\n",
    "- cleanliness_tables_area: ⭐⭐⭐⭐⭐\n",
    "- staff_behavior_serving_greeting: ⭐⭐⭐\n",
    "- food_menu_taste_cousines: ⭐⭐⭐⭐⭐\n",
    "- location_by main road_close to city: ⭐⭐\n",
    "- service_waiter_table booking: ⭐⭐\n",
    "\n",
    "\n",
    "Aspect-Based Sentiment Analysis (ABSA) is particularly useful in analyzing hotel reviews, where customers express opinions on multiple aspects of their stay, such as cleanliness, staff behavior, room quality, location, and amenities. Traditional sentiment analysis may label a review as positive or negative as a whole, but ABSA allows for a more nuanced understanding by identifying sentiment tied to specific aspects. For example, a guest might praise the hotel's location and service but complain about the room's cleanliness. By applying ABSA, hotel management can gain detailed insights into what aspects need improvement while maintaining strengths. Additionally, potential customers can make informed decisions based on sentiments about aspects that matter most to them. This fine-grained analysis helps hotels enhance customer experience and tailor their services to meet guest expectations more effectively.\n",
    "\n"
   ]
  },
  {
   "cell_type": "markdown",
   "id": "22016adf-5bcf-41d3-bb4a-5b85a514baba",
   "metadata": {},
   "source": [
    "Aspect-Based Sentiment Analysis (ABSA) is a challenging task as it involves both identifying relevant \"aspects\" within a text and assigning sentiment labels to them. Various approaches exist for ABSA, but a common strategy involves first detecting aspects in the text and then applying an ABSA model to determine the sentiment associated with each aspect.\n",
    "\n",
    "Aspect identification can be performed using different techniques, including rule-based methods such as dictionary-based approaches. For instance, terms like \"iPhone X\" or \"MacBook Pro\" might be predefined as aspects.\n",
    "\n",
    "After identifying aspects, an ABSA classifier is trained to assess sentiment in relation to the context of a sentence. For example, in the sentence, \"We had a great experience at the restaurant, the food was delicious, but the service was kinda bad,\" the classifier would determine that the sentiment towards \"service\" is negative, despite the overall positive tone of the review.\n",
    "\n"
   ]
  },
  {
   "cell_type": "markdown",
   "id": "dd15fbf5-3147-4797-b042-2c015911c0bf",
   "metadata": {},
   "source": [
    "## Topic Modeling\n",
    "\n",
    "Topic modeling is an unsupervised machine learning technique used to identify hidden thematic structures in a large collection of text data. It helps discover topics that frequently occur in a dataset without requiring prior labeling or annotation. One of the most widely used topic modeling methods is Latent Dirichlet Allocation (LDA), which represents documents as mixtures of topics, with each topic consisting of a set of words with varying probabilities. Topic modeling is commonly applied in text mining, information retrieval, document classification, and content recommendation systems. It enables researchers and businesses to analyze vast amounts of textual data, uncover trends, and gain insights into discussions, making it a valuable tool in areas such as social media analysis, academic research, and customer feedback categorization."
   ]
  },
  {
   "cell_type": "markdown",
   "id": "1a1b42fd-6323-4953-8b68-e6fb698a560e",
   "metadata": {},
   "source": [
    "## Sentiment Analysis\n",
    "\n",
    "Sentiment analysis, also known as opinion mining, is a natural language processing (NLP) technique used to determine the sentiment or emotional tone expressed in a piece of text. It involves classifying text into categories such as positive, negative, or neutral, enabling businesses and researchers to analyze opinions, feedback, and trends. Sentiment analysis is widely applied in various domains, including social media monitoring, customer feedback analysis, brand reputation management, and market research. Advanced sentiment analysis techniques, such as deep learning and transformer-based models, enhance accuracy by capturing contextual nuances, sarcasm, and complex emotions within text data."
   ]
  },
  {
   "cell_type": "markdown",
   "id": "4f155faf-9f0f-4701-9ffe-c13371f87a2e",
   "metadata": {},
   "source": [
    "## Tutorial Content\n",
    "1. Data preparation / preprocessing\n",
    "2. Integer encoding\n",
    "3. Topic modeling (Latent dirichlet allocation with collapsed Gibbs sampling)\n",
    "4. Performing sentiment analysis (using SentiWordNet)  \n",
    "5. Separate neutral i.e., topic (aspect) presenting words and subjective words\n",
    "6. Aggregating scores of the subjective words against each topic\n",
    "7. Preparing output"
   ]
  },
  {
   "cell_type": "code",
   "execution_count": 2,
   "id": "6dde5b04-a301-4428-bc63-8337682e9f5e",
   "metadata": {},
   "outputs": [],
   "source": [
    "# Its vanilla implementation of Topic modeling that only uses basic tools:\n",
    "# json - to read from and write to files in json format \n",
    "# numpy - for faster matrix operations \n",
    "# pandas - to read csv data\n",
    "# string - to only keep English letters, removing puntuations and other characters\n",
    "# random - to generate random numbers for initializing Markov-chain monte carlo, and \n",
    "#           and during algorithm working to avoid local optima\n",
    "\n",
    "\n",
    "import json\n",
    "import pandas as pd"
   ]
  },
  {
   "cell_type": "markdown",
   "id": "7cb1a850-6841-48b5-a7a0-0e60100005dd",
   "metadata": {},
   "source": [
    "### 1. Data preparation"
   ]
  },
  {
   "cell_type": "code",
   "execution_count": 3,
   "id": "4725fd67",
   "metadata": {},
   "outputs": [],
   "source": [
    "from data_preparation import *\n",
    "from lda import LDA"
   ]
  },
  {
   "cell_type": "markdown",
   "id": "8cd84f4a-cd45-4763-81d6-14f5d8ac7dcd",
   "metadata": {},
   "source": [
    "**1.1. Read, clean and tokenize textual data**\n",
    "\n",
    "- The method reads textual data from a CSV file having one column with the input texts. \n",
    "- It cleans the text by removing punctuations and stopwords (generally handled by LDA as well, however, lags in performance)\n",
    "- Tokenize text"
   ]
  },
  {
   "cell_type": "code",
   "execution_count": 4,
   "id": "5689664b-6ad3-4677-b7e5-b52b0b8edf08",
   "metadata": {},
   "outputs": [],
   "source": [
    "# Read input data from data/input_dataset.csv having BBC news titles (for complete list visit https://github.com/vahadruya/Capstone-Project-Unsupervised-ML-Topic-Modelling/blob/main/Input_Data/input.csv)\n",
    "\n",
    "with open('config.json', 'r') as file:\n",
    "        config = json.load(file)\n",
    "\n",
    "dataset = read_data(config[\"text-doc-path\"])"
   ]
  },
  {
   "cell_type": "code",
   "execution_count": 5,
   "id": "530abf23",
   "metadata": {},
   "outputs": [
    {
     "data": {
      "text/plain": [
       "605"
      ]
     },
     "execution_count": 5,
     "metadata": {},
     "output_type": "execute_result"
    }
   ],
   "source": [
    "# Clean and tokenize \n",
    "tokenized_documents = []\n",
    "for document in dataset: # Considering only first 100 titles for the sake of demonstration\n",
    "    document = clean_tokenize(document)\n",
    "    if len(document) > 2:\n",
    "        tokenized_documents.append(document)\n",
    "len(tokenized_documents)"
   ]
  },
  {
   "cell_type": "markdown",
   "id": "05fe0342-b2d5-482d-97be-3e874e2975ea",
   "metadata": {},
   "source": [
    "**1.2. Generate Integer encoding**\\\n",
    "It preserves both frequency and position related information. The process involves assigning each unique token a dedicated integer id, preserving it in a dictionary for later retrieval, while rewriting documents by replacing with with their integer ids.\n",
    "\n",
    "It makes the operations a lot faster as numbers are much faster to read/store and compare as compared to strings. \n",
    "\n",
    "The integer ids will be replaced with their original words at the end using stored dictionary files"
   ]
  },
  {
   "cell_type": "code",
   "execution_count": 6,
   "id": "f3a5beda-d1f7-45f6-82fb-c3db145b1ade",
   "metadata": {},
   "outputs": [],
   "source": [
    "# Create a dictionary of unique tokens and assign integers\n",
    "# The two dictionaries are also created to maintain the generated mappings i.e., dictionary (word -> int) and revdictionary (int -> word)\n",
    "encoded_documents, dictionary, revdictionary = integer_encode_dataset(tokenized_documents)"
   ]
  },
  {
   "cell_type": "markdown",
   "id": "b25a6af2-af1e-4011-bf46-6ea25b151ef3",
   "metadata": {},
   "source": [
    "**1.3. Storing intermediate data**\\\n",
    "The integer encoded documents are stored in files\n",
    "the word-to-id and id-to-word dictionaries are also stored\n",
    "\n",
    "*It will help to avoid these steps, each time topic modeling is performed under different settings*"
   ]
  },
  {
   "cell_type": "code",
   "execution_count": 7,
   "id": "33910370-3787-40f8-ad5f-6c72028d6513",
   "metadata": {},
   "outputs": [],
   "source": [
    "write_encoded_dataset(encoded_documents, config['integer-encoded-doc-path'])\n",
    "write_dictionaries(dictionary, revdictionary, config['word_integer-dict_path'], config['integer-word-dict_path'])\n",
    "#write dictionary to file\n"
   ]
  },
  {
   "cell_type": "markdown",
   "id": "6379e7ed-c3e2-4e9f-9516-2ac164eba45d",
   "metadata": {},
   "source": [
    "### 2. Topic Modeling (Latent Dirichlet Allocation)"
   ]
  },
  {
   "cell_type": "markdown",
   "id": "105028e2-a7dd-4f00-8031-ccd9e25e2887",
   "metadata": {},
   "source": [
    "**Setting (in config.json)**\n",
    "\n",
    "*numTopics: 10* - how much can we stretch the data? After manual exploration or domain knowledge having fewer topics more than the high level separation can give good meaningful topics. Having more topics beyond that can identify more specific topics, however there can me more topics that are incoherent and cannot be interpreted.\n",
    "\n",
    "*numAlpha ($\\alpha$): 1.0* - We want natural representation of topics in documents. A higher value will push in more topics within documents while a lower value will only have fewer most dominant topics. $\\alpha$ is a hyper-parameter where a higher value (above 1) adds external bias to each topic within a document. In extreme case (a value of 1000 or above for example) will have equal representation of all topics within the document.\n",
    "\n",
    "*numBeta ($\\beta$): 0.01* - We want fewer words to represent a topic, therefore, a value 0.01 (below 1) is used. Given the vocabulary size, a lower value will push the lower probability words in the topic further down, therefore, we will have few more prominent words to represent a topic. Pushing this value further down will results in increase in the probability of the prominent words while further drop in the probabilities of the background words for the topic.\n",
    "\n",
    "Further, we set the number of iterations *numGIterations: 1000* giving it enough time to settle, starting from a randomly initialized state.\n",
    "\n",
    "There are some other performance related parameters, set to default values"
   ]
  },
  {
   "cell_type": "markdown",
   "id": "74085e89-4212-4d95-8ca0-ce810b7ebe47",
   "metadata": {},
   "source": [
    "**LDA class**\n",
    "main functions are:\n",
    "1. Markov chain monte carlo initialization (giving the model a random inital state, expecting the model\n",
    "    to converge for higher number of iterations.\n",
    "2. Collapsed gibbs sampling inference: in each iteration \\\n",
    "   2.1 Iterates through all documents, all tokens/words in each document \\\n",
    "   2.2 For for each token computes its most suitable topic, given the current status of the model \\\n",
    "   2.3 Updates new topic if different from current topic, associated estimates update, so does the model state \\\n",
    "3. Estimate document-topic distribution from the final state of the model \n",
    "4. Estimate topic-word distribution (organized in decreasing order of probabilities) from the final state of the model\n",
    "5. Other utility functions"
   ]
  },
  {
   "cell_type": "markdown",
   "id": "8d4d08d3-eeb9-4641-b2bb-933d6db9c23a",
   "metadata": {},
   "source": [
    "**Running the model**"
   ]
  },
  {
   "cell_type": "code",
   "execution_count": 8,
   "id": "b6d507f2-515c-4f60-9028-07e9e700064b",
   "metadata": {},
   "outputs": [],
   "source": [
    "if __name__ == \"__main__\":\n",
    "    lda = LDA(config)\n",
    "    lda.getData(config[\"integer-encoded-doc-path\"])\n",
    "    lda.randomMarkovChainInitialization()\n",
    "    lda.gibbsSampling()"
   ]
  },
  {
   "cell_type": "markdown",
   "id": "2b0830b3-d231-44ca-b39e-bb56ef75cf1e",
   "metadata": {},
   "source": [
    "**Results: Getting Topics**"
   ]
  },
  {
   "cell_type": "code",
   "execution_count": 9,
   "id": "a939393a-44ad-40c2-beff-cbe8ea3e0319",
   "metadata": {},
   "outputs": [],
   "source": [
    "with open(config[\"integer-word-dict_path\"], 'r') as file:\n",
    "    revdictionary = json.load(file)\n",
    "topic_words = lda.getWordsPerTopic(revdictionary)"
   ]
  },
  {
   "cell_type": "markdown",
   "id": "b3d0fb59-f368-4432-88ea-c3faeb5f2281",
   "metadata": {},
   "source": [
    "### 4. Performing sentiment analysis (using SentiStrength)s\n",
    "\n",
    "- We are using Senti-Strength in this tutorial for computing the sentiment score, using scale parameter which gives a score in range [-5, 5]\n",
    "\n",
    "### 5. Separate neutral i.e., topic (aspect) presenting words and subjective words\n",
    "\n",
    "- Words with Senti-score of 0 are considered Neutral or Objective, words with score below 0 are negatively subjective while words with score above 0 are positively subjective.\n",
    "- It gives us a split of Neutral i.e., topic or aspect presentable words and subjective (both positive and negative together) words\n",
    "\n",
    "### 6. Aggregating scores of the subjective words against each topic\n",
    "- Aggregate the senti-scorse of all subjective terms in a topic (using mean)"
   ]
  },
  {
   "cell_type": "code",
   "execution_count": 10,
   "id": "febe4b3c",
   "metadata": {},
   "outputs": [],
   "source": [
    "from sentistrength import PySentiStr\n",
    "senti = PySentiStr()\n",
    "senti.setSentiStrengthPath('util_SentiStrength/jar_datei/SentiStrength.jar') # Note: Provide absolute path instead of relative path\n",
    "senti.setSentiStrengthLanguageFolderPath('util_SentiStrength/SentiStrengthData/') # Note: Provide absolute path instead of relative path\n"
   ]
  },
  {
   "cell_type": "code",
   "execution_count": 11,
   "id": "dd5c6f99-6a81-4ef2-a52b-c39c096c8844",
   "metadata": {},
   "outputs": [],
   "source": [
    "\n",
    "topic_presenting_words = {}\n",
    "topic_senti_words = {}\n",
    "topic_senti_score = {}\n",
    "\n",
    "for i in range(config['numTopics']):\n",
    "    topic_presenting_words[i] = []\n",
    "    topic_senti_words[i] = []\n",
    "    topic_senti_score[i] = 0\n",
    "\n",
    "for topic, wordslist in topic_words.items():\n",
    "    for word in wordslist:\n",
    "        score = senti.getSentiment(word[0], score='scale')[0]\n",
    "        if score == 0:\n",
    "            topic_presenting_words[topic].append(word[0])\n",
    "        else: \n",
    "            topic_senti_words[topic].append(word[0])\n",
    "            topic_senti_score[topic] += score\n",
    "    topic_senti_score[topic] /= len(topic_senti_words)\n",
    "            "
   ]
  },
  {
   "cell_type": "markdown",
   "id": "1e488446-223c-46e4-8b66-1560db295246",
   "metadata": {},
   "source": [
    "### 7. Preparing output\n",
    "\n",
    "- Prepare understandable topic name by concating its top 5 most presentable words\n",
    "-  "
   ]
  },
  {
   "cell_type": "code",
   "execution_count": 12,
   "id": "d3a359ca-c7d3-4fd7-9764-364f90b6a8e4",
   "metadata": {},
   "outputs": [],
   "source": [
    "dict_output = {'topic' : [], 'topic_words' : [], 'senti_score' : [], 'top_remarks' : []}\n",
    "for i in range(config['numTopics']):\n",
    "    dict_output['topic'].append(i+1)\n",
    "    dict_output['topic_words'].append(topic_presenting_words[i][:config['wordsPerTopic']])\n",
    "    dict_output['senti_score'].append(topic_senti_score[i])\n",
    "    dict_output['top_remarks'].append(' '.join(topic_senti_words[i][:5]))    "
   ]
  },
  {
   "cell_type": "code",
   "execution_count": 13,
   "id": "4e14618d",
   "metadata": {},
   "outputs": [
    {
     "data": {
      "text/html": [
       "<div>\n",
       "<style scoped>\n",
       "    .dataframe tbody tr th:only-of-type {\n",
       "        vertical-align: middle;\n",
       "    }\n",
       "\n",
       "    .dataframe tbody tr th {\n",
       "        vertical-align: top;\n",
       "    }\n",
       "\n",
       "    .dataframe thead th {\n",
       "        text-align: right;\n",
       "    }\n",
       "</style>\n",
       "<table border=\"1\" class=\"dataframe\">\n",
       "  <thead>\n",
       "    <tr style=\"text-align: right;\">\n",
       "      <th></th>\n",
       "      <th>topic</th>\n",
       "      <th>topic_words</th>\n",
       "      <th>senti_score</th>\n",
       "      <th>top_remarks</th>\n",
       "    </tr>\n",
       "  </thead>\n",
       "  <tbody>\n",
       "    <tr>\n",
       "      <th>0</th>\n",
       "      <td>1</td>\n",
       "      <td>[place., feel, experience, place,, full, Every...</td>\n",
       "      <td>0.4</td>\n",
       "      <td>special magical truly</td>\n",
       "    </tr>\n",
       "    <tr>\n",
       "      <th>1</th>\n",
       "      <td>2</td>\n",
       "      <td>[stay, much, staff, This, days, All, Many]</td>\n",
       "      <td>1.2</td>\n",
       "      <td>Thank wonderful beautiful love Thanks</td>\n",
       "    </tr>\n",
       "    <tr>\n",
       "      <th>2</th>\n",
       "      <td>3</td>\n",
       "      <td>[And, ï¿½, since, reception, attention, years,...</td>\n",
       "      <td>0.2</td>\n",
       "      <td>lovely care</td>\n",
       "    </tr>\n",
       "    <tr>\n",
       "      <th>3</th>\n",
       "      <td>4</td>\n",
       "      <td>[come, back, place, experience., room,, back.,...</td>\n",
       "      <td>1.2</td>\n",
       "      <td>amazing loved excellent place! Fantastic</td>\n",
       "    </tr>\n",
       "    <tr>\n",
       "      <th>4</th>\n",
       "      <td>5</td>\n",
       "      <td>[would, One, next, definitely, get, hotel., bi...</td>\n",
       "      <td>0.5</td>\n",
       "      <td>like perfect good</td>\n",
       "    </tr>\n",
       "  </tbody>\n",
       "</table>\n",
       "</div>"
      ],
      "text/plain": [
       "   topic                                        topic_words  senti_score  \\\n",
       "0      1  [place., feel, experience, place,, full, Every...          0.4   \n",
       "1      2         [stay, much, staff, This, days, All, Many]          1.2   \n",
       "2      3  [And, ï¿½, since, reception, attention, years,...          0.2   \n",
       "3      4  [come, back, place, experience., room,, back.,...          1.2   \n",
       "4      5  [would, One, next, definitely, get, hotel., bi...          0.5   \n",
       "\n",
       "                                top_remarks  \n",
       "0                     special magical truly  \n",
       "1     Thank wonderful beautiful love Thanks  \n",
       "2                               lovely care  \n",
       "3  amazing loved excellent place! Fantastic  \n",
       "4                         like perfect good  "
      ]
     },
     "execution_count": 13,
     "metadata": {},
     "output_type": "execute_result"
    }
   ],
   "source": [
    "df_output = pd.DataFrame(dict_output)\n",
    "df_output.to_csv(config['output_file_path'], sep='\\t', index = False)\n",
    "df_output.head()"
   ]
  },
  {
   "cell_type": "markdown",
   "id": "a13110d8-718f-4683-9cdc-808414a7a1df",
   "metadata": {},
   "source": [
    "**Commentary on Output**\n",
    "\n",
    "*Topic 1* is synonymous to user experience of the hotel getting a score of *0.4* with top_remarks as special megical truely. *Topic 2* is along the lines of services and has got a score of *1.2*.\n"
   ]
  },
  {
   "cell_type": "code",
   "execution_count": null,
   "id": "c84c8850-ecb9-47d0-8e72-0f77e74e3502",
   "metadata": {},
   "outputs": [],
   "source": []
  }
 ],
 "metadata": {
  "kernelspec": {
   "display_name": "venv",
   "language": "python",
   "name": "python3"
  },
  "language_info": {
   "codemirror_mode": {
    "name": "ipython",
    "version": 3
   },
   "file_extension": ".py",
   "mimetype": "text/x-python",
   "name": "python",
   "nbconvert_exporter": "python",
   "pygments_lexer": "ipython3",
   "version": "3.12.7"
  }
 },
 "nbformat": 4,
 "nbformat_minor": 5
}
